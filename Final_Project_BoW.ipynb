{
 "cells": [
  {
   "cell_type": "markdown",
   "metadata": {},
   "source": [
    "This section we use Bag of Visual Words model to classify images of skin cancers"
   ]
  },
  {
   "cell_type": "code",
   "execution_count": 2,
   "metadata": {},
   "outputs": [],
   "source": [
    "import numpy as np\n",
    "import pandas as pd\n",
    "import matplotlib\n",
    "import matplotlib.pyplot as plt\n",
    "from sklearn.model_selection import train_test_split\n",
    "from sklearn.neighbors import KNeighborsClassifier as KNN\n",
    "#from sklearn.decomposition import PCA\n",
    "from sklearn.svm import SVC\n",
    "from sklearn.feature_extraction.image import extract_patches_2d\n",
    "from sklearn.cluster import KMeans\n",
    "from sklearn.cluster import MiniBatchKMeans"
   ]
  },
  {
   "cell_type": "markdown",
   "metadata": {},
   "source": [
    "Read in the HMNIST dataset. Each datapoint is a 28 by 28 grayscale image"
   ]
  },
  {
   "cell_type": "code",
   "execution_count": 3,
   "metadata": {},
   "outputs": [],
   "source": [
    "#hmnist_dataset = pd.read_csv(\"hmnist_28_28_L.csv\").to_numpy()\n",
    "hmnist_dataset = pd.read_csv(\"hmnist_28_28_L.csv\").values"
   ]
  },
  {
   "cell_type": "code",
   "execution_count": 4,
   "metadata": {},
   "outputs": [],
   "source": [
    "# viewcolumn(columnvector);\n",
    "# VIEWCOLUMN Displays a 28 x 28 grayscale image stored in a column vector.\n",
    "# Tim Marks 2002\n",
    "\n",
    "def viewcolumn(columnvector):\n",
    "    plt.imshow(columnvector.reshape([28,28], order='F'), cmap=plt.get_cmap('gray'))"
   ]
  },
  {
   "cell_type": "code",
   "execution_count": 7,
   "metadata": {},
   "outputs": [],
   "source": [
    "def get_visual_words(image, kmeans_model, patch_size=patch_size):\n",
    "    patches = extract_patches_2d(image.reshape([28,28]), (patch_size, patch_size))\n",
    "    visual_words = kmeans_model.predict(patches.reshape([len(patches),patch_size*patch_size]))\n",
    "    hist, _ = np.histogram(visual_words, bins=range(kmeans_model.n_clusters))\n",
    "\n",
    "    return hist"
   ]
  },
  {
   "cell_type": "code",
   "execution_count": 8,
   "metadata": {},
   "outputs": [],
   "source": [
    "def images_to_patches(images, patch_size):\n",
    "    patches = []\n",
    "    for i in range(len(images)):\n",
    "        image_patches = extract_patches_2d(images[i].reshape([28,28]), (patch_size, patch_size))\n",
    "        for patch in image_patches:\n",
    "            patches.append(patch)\n",
    "    return np.array(patches)"
   ]
  },
  {
   "cell_type": "code",
   "execution_count": 9,
   "metadata": {},
   "outputs": [
    {
     "data": {
      "image/png": "[encoded data removed]",
      "text/plain": [
       "<Figure size 432x288 with 1 Axes>"
      ]
     },
     "metadata": {
      "needs_background": "light"
     },
     "output_type": "display_data"
    }
   ],
   "source": [
    "viewcolumn(hmnist_dataset[8][0:784])"
   ]
  },
  {
   "cell_type": "markdown",
   "metadata": {},
   "source": [
    "Split the data set into training (75%), validation (15%), and test (10%)"
   ]
  },
  {
   "cell_type": "code",
   "execution_count": 10,
   "metadata": {},
   "outputs": [],
   "source": [
    "dimension = 784\n",
    "hmnist_X = hmnist_dataset.T[0:dimension].T\n",
    "hmnist_y  = hmnist_dataset.T[dimension].T\n",
    "\n",
    "# First split the whole dataset into train and test\n",
    "X_train, X_test, y_train, y_test = train_test_split(hmnist_X, hmnist_y, test_size=0.25)\n",
    "# Then split the test dataset into validation and test\n",
    "X_valid, X_test, y_valid, y_test = train_test_split(X_test, y_test, test_size=0.4)"
   ]
  },
  {
   "cell_type": "markdown",
   "metadata": {},
   "source": [
    "Below is the hyperparameters for this model. They can be tuned to get better prediction results"
   ]
  },
  {
   "cell_type": "code",
   "execution_count": 11,
   "metadata": {},
   "outputs": [],
   "source": [
    "patch_size = 8\n",
    "n_clusters = 10\n",
    "knn_neighbors = 20\n",
    "#c= 3"
   ]
  },
  {
   "cell_type": "code",
   "execution_count": 12,
   "metadata": {},
   "outputs": [
    {
     "name": "stdout",
     "output_type": "stream",
     "text": [
      "Validation accuracy is 0.683755\n"
     ]
    }
   ],
   "source": [
    "#Extract 2D patches (features) from the image\n",
    "patches = images_to_patches(X_train,patch_size)\n",
    "#Run KMeans on the extracted patches\n",
    "kmeans_model = MiniBatchKMeans(n_clusters=n_clusters, random_state=0).fit(patches.reshape([len(patches),patch_size*patch_size]))\n",
    "#Get visual words for all the images (use kmeans features to label each training image)\n",
    "X_train_hist = [get_visual_words(image, kmeans_model, patch_size) for image in X_train]\n",
    "#Train the trained histograms with training label using SVM\n",
    "#clf = SVC(C=c,gamma='auto')\n",
    "#clf.fit(X_train_hist,y_train)\n",
    "knn_model = KNN(n_jobs=-1,n_neighbors=knn_neighbors,weights='uniform')\n",
    "knn_model.fit(X_train_hist,y_train)\n",
    "\n",
    "#Test validation accuracy\n",
    "X_valid_hist = [get_visual_words(image, kmeans_model, patch_size) for image in X_valid]\n",
    "#valid_pred = clf.predict(X_valid_hist)\n",
    "valid_pred = knn_model.predict(X_valid_hist)\n",
    "valid_result = []\n",
    "for i in range(len(y_valid)):\n",
    "    if (y_valid[i] == valid_pred[i]):\n",
    "        valid_result.append(1)\n",
    "    else:\n",
    "        valid_result.append(0)\n",
    "valid_accuracy = sum(valid_result) / len(y_valid)\n",
    "\n",
    "print(\"Validation accuracy is %f\" %valid_accuracy)"
   ]
  },
  {
   "cell_type": "code",
   "execution_count": 13,
   "metadata": {},
   "outputs": [
    {
     "name": "stdout",
     "output_type": "stream",
     "text": [
      "Test accuracy is 0.669661\n"
     ]
    }
   ],
   "source": [
    "#Test test accuracy\n",
    "X_test_hist = [get_visual_words(image, kmeans_model, patch_size) for image in X_test]\n",
    "#test_pred = clf.predict(X_test_hist)\n",
    "test_pred = knn_model.predict(X_test_hist)\n",
    "test_result = []\n",
    "for i in range(len(y_test)):\n",
    "    if (y_test[i] == test_pred[i]):\n",
    "        test_result.append(1)\n",
    "    else:\n",
    "        test_result.append(0)\n",
    "test_accuracy = sum(test_result) / len(y_test)\n",
    "\n",
    "print(\"Test accuracy is %f\" %test_accuracy)"
   ]
  }
 ],
 "metadata": {
  "kernelspec": {
   "display_name": "Python 3",
   "language": "python",
   "name": "python3"
  },
  "language_info": {
   "codemirror_mode": {
    "name": "ipython",
    "version": 3
   },
   "file_extension": ".py",
   "mimetype": "text/x-python",
   "name": "python",
   "nbconvert_exporter": "python",
   "pygments_lexer": "ipython3",
   "version": "3.7.3"
  }
 },
 "nbformat": 4,
 "nbformat_minor": 2
}
