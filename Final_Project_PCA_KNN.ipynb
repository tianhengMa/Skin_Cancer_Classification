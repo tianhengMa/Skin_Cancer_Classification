{
 "cells": [
  {
   "cell_type": "markdown",
   "metadata": {},
   "source": [
    "This section we use PCA-KNN model to classify images of skin cancers"
   ]
  },
  {
   "cell_type": "code",
   "execution_count": 257,
   "metadata": {},
   "outputs": [],
   "source": [
    "import numpy as np\n",
    "import pandas as pd\n",
    "import matplotlib\n",
    "import matplotlib.pyplot as plt\n",
    "from sklearn.model_selection import train_test_split\n",
    "from sklearn.neighbors import KNeighborsClassifier as KNN\n",
    "from sklearn.decomposition import PCA"
   ]
  },
  {
   "cell_type": "code",
   "execution_count": 258,
   "metadata": {},
   "outputs": [],
   "source": [
    "# viewcolumn(columnvector);\n",
    "# VIEWCOLUMN Displays a 28 x 28 grayscale image stored in a column vector.\n",
    "# Tim Marks 2002\n",
    "\n",
    "def viewcolumn(columnvector):\n",
    "    plt.imshow(columnvector.reshape([28,28], order='F'), cmap=plt.get_cmap('gray'))"
   ]
  },
  {
   "cell_type": "markdown",
   "metadata": {},
   "source": [
    "Read in the HMNIST dataset. Each datapoint is a 28 by 28 grayscale image"
   ]
  },
  {
   "cell_type": "code",
   "execution_count": 259,
   "metadata": {},
   "outputs": [],
   "source": [
    "hmnist_dataset = pd.read_csv(\"hmnist_28_28_L.csv\").to_numpy()"
   ]
  },
  {
   "cell_type": "markdown",
   "metadata": {},
   "source": [
    "View one image from the dataset"
   ]
  },
  {
   "cell_type": "code",
   "execution_count": 267,
   "metadata": {},
   "outputs": [
    {
     "data": {
      "image/png": "[encoded data removed]",
      "text/plain": [
       "<Figure size 432x288 with 1 Axes>"
      ]
     },
     "metadata": {
      "needs_background": "light"
     },
     "output_type": "display_data"
    }
   ],
   "source": [
    "viewcolumn(hmnist_dataset[1900][0:784])"
   ]
  },
  {
   "cell_type": "markdown",
   "metadata": {},
   "source": [
    "Split the data set into training (75%), validation (15%), and test (10%)"
   ]
  },
  {
   "cell_type": "code",
   "execution_count": 261,
   "metadata": {},
   "outputs": [],
   "source": [
    "dimension = 784\n",
    "hmnist_X = hmnist_dataset.T[0:dimension].T\n",
    "hmnist_y  = hmnist_dataset.T[dimension].T\n",
    "\n",
    "# First split the whole dataset into train and test\n",
    "X_train, X_test, y_train, y_test = train_test_split(hmnist_X, hmnist_y, test_size=0.25)\n",
    "# Then split the test dataset into validation and test\n",
    "X_valid, X_test, y_valid, y_test = train_test_split(X_test, y_test, test_size=0.4)"
   ]
  },
  {
   "cell_type": "markdown",
   "metadata": {},
   "source": [
    "Below is the hyperparameters for this model. They can be tuned to get better prediction results"
   ]
  },
  {
   "cell_type": "code",
   "execution_count": 262,
   "metadata": {},
   "outputs": [],
   "source": [
    "pca_components = 784\n",
    "knn_neighbors = 20"
   ]
  },
  {
   "cell_type": "markdown",
   "metadata": {},
   "source": [
    "Run PCA on the train dataset"
   ]
  },
  {
   "cell_type": "code",
   "execution_count": 268,
   "metadata": {},
   "outputs": [],
   "source": [
    "X_train_reduced = PCA(n_components = pca_components).fit_transform(X_train)"
   ]
  },
  {
   "cell_type": "markdown",
   "metadata": {},
   "source": [
    "Train KNN on the PCA coordinates"
   ]
  },
  {
   "cell_type": "code",
   "execution_count": 264,
   "metadata": {},
   "outputs": [
    {
     "data": {
      "text/plain": [
       "KNeighborsClassifier(algorithm='auto', leaf_size=30, metric='minkowski',\n",
       "                     metric_params=None, n_jobs=-1, n_neighbors=20, p=2,\n",
       "                     weights='uniform')"
      ]
     },
     "execution_count": 264,
     "metadata": {},
     "output_type": "execute_result"
    }
   ],
   "source": [
    "knn_model = KNN(n_jobs=-1,n_neighbors=knn_neighbors,weights='uniform')\n",
    "knn_model.fit(X_train_reduced,y_train)"
   ]
  },
  {
   "cell_type": "markdown",
   "metadata": {},
   "source": [
    "Test on validation set to tune hyperparameters"
   ]
  },
  {
   "cell_type": "code",
   "execution_count": 265,
   "metadata": {},
   "outputs": [
    {
     "name": "stdout",
     "output_type": "stream",
     "text": [
      "Validation accuracy is 0.653795\n"
     ]
    }
   ],
   "source": [
    "X_valid_reduced = PCA().fit_transform(X_valid)\n",
    "valid_pred = knn_model.predict(X_valid_reduced)\n",
    "valid_result = []\n",
    "for i in range(len(y_valid)):\n",
    "    if (y_valid[i] == valid_pred[i]):\n",
    "        valid_result.append(1)\n",
    "    else:\n",
    "        valid_result.append(0)\n",
    "valid_accuracy = sum(valid_result) / len(y_valid)\n",
    "\n",
    "print(\"Validation accuracy is %f\" %valid_accuracy)"
   ]
  },
  {
   "cell_type": "code",
   "execution_count": 266,
   "metadata": {},
   "outputs": [
    {
     "name": "stdout",
     "output_type": "stream",
     "text": [
      "Test accuracy is 0.680639\n"
     ]
    }
   ],
   "source": [
    "\n",
    "X_test_reduced = PCA().fit_transform(X_test)\n",
    "test_pred = knn_model.predict(X_test)\n",
    "test_result = []\n",
    "for i in range(len(y_test)):\n",
    "    if (y_test[i] == test_pred[i]):\n",
    "        test_result.append(1)\n",
    "    else:\n",
    "        test_result.append(0)\n",
    "test_accuracy = sum(test_result) / len(y_test)\n",
    "\n",
    "print(\"Test accuracy is %f\" %test_accuracy)\n",
    "\n"
   ]
  }
 ],
 "metadata": {
  "kernelspec": {
   "display_name": "Python 3",
   "language": "python",
   "name": "python3"
  },
  "language_info": {
   "codemirror_mode": {
    "name": "ipython",
    "version": 3
   },
   "file_extension": ".py",
   "mimetype": "text/x-python",
   "name": "python",
   "nbconvert_exporter": "python",
   "pygments_lexer": "ipython3",
   "version": "3.7.3"
  }
 },
 "nbformat": 4,
 "nbformat_minor": 2
}
